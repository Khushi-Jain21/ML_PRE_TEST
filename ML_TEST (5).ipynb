{
  "metadata": {
    "kernelspec": {
      "display_name": "Python (Pyodide)",
      "language": "python",
      "name": "python"
    },
    "language_info": {
      "codemirror_mode": {
        "name": "python",
        "version": 3
      },
      "file_extension": ".py",
      "mimetype": "text/x-python",
      "name": "python",
      "nbconvert_exporter": "python",
      "pygments_lexer": "ipython3",
      "version": "3.8"
    }
  },
  "nbformat_minor": 5,
  "nbformat": 4,
  "cells": [
    {
      "id": "a35eeb9f-df70-4ab1-a243-2d2025888eb0",
      "cell_type": "markdown",
      "source": "# Introduction to the JupyterLab and Jupyter Notebooks\n\nThis is a short introduction to two of the flagship tools created by [the Jupyter Community](https://jupyter.org).\n\n> **⚠️Experimental!⚠️**: This is an experimental interface provided by the [JupyterLite project](https://jupyterlite.readthedocs.io/en/latest/). It embeds an entire JupyterLab interface, with many popular packages for scientific computing, in your browser. There may be minor differences in behavior between JupyterLite and the JupyterLab you install locally. You may also encounter some bugs or unexpected behavior. To report any issues, or to get involved with the JupyterLite project, see [the JupyterLite repository](https://github.com/jupyterlite/jupyterlite/issues?q=is%3Aissue+is%3Aopen+sort%3Aupdated-desc).\n\n## JupyterLab 🧪\n\n**JupyterLab** is a next-generation web-based user interface for Project Jupyter. It enables you to work with documents and activities such as Jupyter notebooks, text editors, terminals, and custom components in a flexible, integrated, and extensible manner. It is the interface that you're looking at right now.\n\n**For an overview of the JupyterLab interface**, see the **JupyterLab Welcome Tour** on this page, by going to `Help -> Welcome Tour` and following the prompts.\n\n> **See Also**: For a more in-depth tour of JupyterLab with a full environment that runs in the cloud, see [the JupyterLab introduction on Binder](https://mybinder.org/v2/gh/jupyterlab/jupyterlab-demo/HEAD?urlpath=lab/tree/demo).\n\n## Jupyter Notebooks 📓\n\n**Jupyter Notebooks** are a community standard for communicating and performing interactive computing. They are a document that blends computations, outputs, explanatory text, mathematics, images, and rich media representations of objects.\n\nJupyterLab is one interface used to create and interact with Jupyter Notebooks.\n\n**For an overview of Jupyter Notebooks**, see the **JupyterLab Welcome Tour** on this page, by going to `Help -> Notebook Tour` and following the prompts.\n\n> **See Also**: For a more in-depth tour of Jupyter Notebooks and the Classic Jupyter Notebook interface, see [the Jupyter Notebook IPython tutorial on Binder](https://mybinder.org/v2/gh/ipython/ipython-in-depth/HEAD?urlpath=tree/binder/Index.ipynb).\n\n## An example: visualizing data in the notebook ✨\n\nBelow is an example of a code cell. We'll visualize some simple data using two popular packages in Python. We'll use [NumPy](https://numpy.org/) to create some random data, and [Matplotlib](https://matplotlib.org) to visualize it.\n\nNote how the code and the results of running the code are bundled together.",
      "metadata": {}
    },
    {
      "id": "7ba62e5a-cc8e-43cc-9d76-10c482bdc773",
      "cell_type": "raw",
      "source": "Q1\nFor each element in the resulting matrix, we compute the dot product of a row from the first matrix and a column from the second matrix.\n\nThis involves multiplying corresponding elements of length k and adding them together.\n\nNumber of Multiplications:\nEach element requires k multiplications.\nTotal multiplications =n×m×k\n\nFor addition:\nk−1 (because to sum k numbers, you need k−1 additions).\nTotal additions =n×m×(k−1)",
      "metadata": {}
    },
    {
      "id": "50161095-020a-4a86-b3bb-fe7f35b7016d",
      "cell_type": "code",
      "source": "\n\n# Q1\n# For each element in the resulting matrix, we compute the dot product of a row from the first matrix and \n# a column from the second matrix.\n\n# This involves multiplying corresponding elements of length k and adding them together.\n\n# Number of Multiplications:\n# Each element requires k multiplications.\n# Total multiplications =n×m×k\n\n# For addition:\n# k−1 (because to sum k numbers, you need k−1 additions).\n# Total additions =n×m×(k−1)\n\n\n\n\n\n\n#Q2\n\nA = [[1, 2], [3, 4], [5, 6]]  # 3x2 \n\nB = [[1, 5, 8, 0], [10, 2, 3, 14]]  # 2x4 \n\n \n\ndef lists(A, B): \n\n    n = len(A) \n\n    k = len(A[0]) \n\n    m = len(B[0]) \n\n    \n\n    C = [[0] * m for _ in range(n)] \n\n    for i in range(n): \n\n        for j in range(m): \n\n            for l in range(k): \n\n                C[i][j] += A[i][l] * B[l][j] \n\n    return C \n\n \n\nC_list = lists(A, B) \n\nprint(C_list) \n\n\n# Q2 part 2\nimport numpy as np \n\n\nA = [[1, 2], [3, 4], [5, 6]]  # 3x2 \n\nB = [[1, 5, 8, 0], [10, 2, 3, 14]]  # 2x4 \n\n \n\nA_np = np.array(A) \n\nB_np = np.array(B) \n\nC_np = np.dot(A_np, B_np) \n\n \n\nprint(C_np) \n\n # timing comparasion\nimport time \n\n# Time lists of lists \n\nstart_list = time.time() \n\nC_list = lists(A, B) \n\nend_list = time.time() \n\ntime_list = end_list - start_list \n\n \n\n# Time numpy \n\nstart_np = time.time() \n\nC_np = np.dot(A_np, B_np) \n\nend_np = time.time() \n\ntime_np = end_np - start_np \n\n \n\nprint(f\"Lists time: {time_list:.6f}s\") \n\nprint(f\"NumPy time: {time_np:.6f}s\") \n \n",
      "metadata": {
        "trusted": true
      },
      "outputs": [],
      "execution_count": null
    },
    {
      "id": "9abe5d8c-3fa9-4035-928d-4adba0989ab5",
      "cell_type": "code",
      "source": "",
      "metadata": {
        "trusted": true
      },
      "outputs": [],
      "execution_count": null
    },
    {
      "id": "079a41c8-85f4-48cc-824f-ea9fefcb9e4c",
      "cell_type": "code",
      "source": "Q2 \nNumpy should be faster since:\nNumPy performs operations in a vectorized manner, processing whole blocks of data at once rather than looping element-by-element in Python, \nwhich reduces the overhead of Python loops significantly. \n\nNumPy arrays store elements in contiguous memory blocks, leading to better CPU cache utilization and fewer memory access delays compared to\nPython lists which store pointers to objects scattered in memory.",
      "metadata": {
        "trusted": true
      },
      "outputs": [],
      "execution_count": null
    },
    {
      "id": "fb193542-c6ad-46aa-85e7-1fd0e5d51bce",
      "cell_type": "code",
      "source": "#Q3\n\n# Q3\n# time complexity is O(n log n) \n\n# A better method is the QuickSelect algorithm, which is a selection algorithm related to QuickSort. \n# QuickSelect finds the k-th smallest element with an average time complexity of O(n).\n# It partitions the array and recursively searches a smaller partition until it finds the median\n# without fully sorting the array.\n\n\n\n\nimport numpy as np \n\nimport time \n\nfrom random import randint \n\n \n\n# Naive two-pass example  \n\ndef find_median_two_pass(arr): \n\n    n = len(arr) \n\n    max_val = arr[0] \n\n    for num in arr: \n\n        if num > max_val: \n\n            max_val = num \n\n    second_max = arr[0] if arr[0] != max_val else arr[1] \n\n    for num in arr: \n\n        if second_max < num < max_val: \n\n            second_max = num \n\n    return max_val, second_max \n\n \n\n# QuickSelect algorithm \n\ndef partition(arr, low, high): \n\n    pivot = arr[high] \n\n    i = low \n\n    for j in range(low, high): \n\n        if arr[j] < pivot: \n\n            arr[i], arr[j] = arr[j], arr[i] \n\n            i += 1 \n\n    arr[i], arr[high] = arr[high], arr[i] \n\n    return i \n\n \n\ndef quickselect(arr, low, high, k): \n\n    if low == high: \n\n        return arr[low] \n\n    pivot_index = partition(arr, low, high) \n\n    if k == pivot_index: \n\n        return arr[k] \n\n    elif k < pivot_index: \n\n        return quickselect(arr, low, pivot_index - 1, k) \n\n    else: \n\n        return quickselect(arr, pivot_index + 1, high, k) \n\n \n\ndef find_median_quickselect(arr): \n\n    n = len(arr) \n\n    mid = n // 2 \n\n    if n % 2 == 1: \n\n        return quickselect(arr, 0, n - 1, mid) \n\n    else: \n\n        left = quickselect(arr, 0, n - 1, mid - 1) \n\n        right = quickselect(arr, 0, n - 1, mid) \n\n        return (left + right) / 2 \n\n \n\n# Test data \n\narr = [randint(0, 100000) for _ in range(10000)] \n\n \n\n# Measure time of naive two-pass (illustrative) \n\nstart = time.time() \n\nmax_val, second_max = find_median_two_pass(arr.copy()) \n\nend = time.time() \n\ntime_two_pass = end - start \n\n \n\n# Measure time of QuickSelect median \n\nstart = time.time() \n\nmedian_qs = find_median_quickselect(arr.copy()) \n\nend = time.time() \n\ntime_quickselect = end - start \n\n \n\n# Measure time of NumPy median \n\nstart = time.time() \n\nmedian_np = np.median(np.array(arr)) \n\nend = time.time() \n\ntime_numpy = end - start \n\n \n\nprint(f\"Naive two-pass time (not true median): {time_two_pass:.6f}s\") \n\nprint(f\"QuickSelect median time: {time_quickselect:.6f}s\") \n\nprint(f\"NumPy median time: {time_numpy:.6f}s\") \n\nprint(f\"Median from QuickSelect: {median_qs}\") \n\nprint(f\"Median from NumPy: {median_np}\") ",
      "metadata": {
        "trusted": true
      },
      "outputs": [
        {
          "name": "stdout",
          "output_type": "stream",
          "text": "Naive two-pass time (not true median): 0.001000s\nQuickSelect median time: 0.044000s\nNumPy median time: 0.003000s\nMedian from QuickSelect: 48988.5\nMedian from NumPy: 48988.5\n"
        }
      ],
      "execution_count": 5
    },
    {
      "id": "8daddbc9-92f4-4970-bc98-800a9e1456bc",
      "cell_type": "raw",
      "source": "Q3\ntime complexity is O(n log n) \n\nA better method is the QuickSelect algorithm, which is a selection algorithm related to QuickSort. QuickSelect finds the k-th smallest element with an average time complexity of O(n). It partitions the array and recursively searches a smaller partition until it finds the median without fully sorting the array. ",
      "metadata": {}
    },
    {
      "id": "cdba63c6-d882-4cbc-908a-7776d1b0423d",
      "cell_type": "raw",
      "source": "Q4\nWith respect to x: 2xy + (y^3)cos(x)\nWith respect to y: x^2 + 3(y^2)sin(x)",
      "metadata": {}
    },
    {
      "id": "cc11807e-6a75-43d2-86c4-d6e84e209a40",
      "cell_type": "code",
      "source": "\n# Q4\n\n# With respect to x: 2xy + (y^3)cos(x)\n# With respect to y: x^2 + 3(y^2)sin(x)\n\n\n\n\n\n\n\n\n\n#q5\nimport jax \n\nimport jax.numpy as jnp \n\nfrom jax import grad \n\nimport numpy as np \n\ndef func(x, y): \n\n    return (x**2) * y + (y**3) * jnp.sin(x) \n\n \n\n# Analytical gradients \n\ndef analytical_grad(x, y): \n\n    dfdx = 2 * x * y + (y**3) * jnp.cos(x) \n\n    dfdy = (x**2) + 3 * (y**2) * jnp.sin(x) \n\n    return dfdx, dfdy \n\n \n\n\ngrad_x = grad(func, argnums=0) \n\ngrad_y = grad(func, argnums=1) \n\n \n\n# Random test values \n\nnp.random.seed(0) \n\nxs = np.random.uniform(-10, 10, size=5) \n\nys = np.random.uniform(-10, 10, size=5) \n\n \n\n\nfor x, y in zip(xs, ys): \n\n    jax_dx = grad_x(x, y) \n\n    jax_dy = grad_y(x, y) \n\n    ana_dx, ana_dy = analytical_grad(x, y) \n\n    print(f\"x={x:.4f}, y={y:.4f}\") \n\n    print(f\"JAX gradient dx: {jax_dx:.6f}, analytical dx: {ana_dx:.6f}, match: {jnp.isclose(jax_dx, ana_dx, rtol=1e-5)}\") \n\n    print(f\"JAX gradient dy: {jax_dy:.6f}, analytical dy: {ana_dy:.6f}, match: {jnp.isclose(jax_dy, ana_dy, rtol=1e-5)}\") \n\n    print() ",
      "metadata": {
        "trusted": true
      },
      "outputs": [],
      "execution_count": null
    },
    {
      "id": "438c96e7-ba48-48d2-95ab-6f8f024cc6ee",
      "cell_type": "code",
      "source": "#q6\nimport sympy as sp \n\n#Define the symbolic variables \n\nx, y = sp.symbols('x y', real=True) \n\n\n\nf = (x^2) * y + (y3) * sp.sin(x) \n\n\ndf_dx = sp.diff(f, x) \ndf_dy = sp.diff(f, y) \n\n\n\nprint(\"∂f/∂x =\", df_dx)\nprint(\"∂f/∂y =\", df_dy) \n\n\n\n#∂f/∂x = 2xy + y^3 cos(x) \n\n#∂f/∂y = x^2 + 3y^2 sin(x) \n\n#Check equality with SymPy's simplify() \n\n#check_dx = sp.simplify(df_dx - (2xy + y3 * sp.cos(x))) check_dy = sp.simplify(df_dy - (x2 + 3*y**2 * sp.sin(x))) \n\nprint(\"dx match?\", check_dx == 0) \nprint(\"dy match?\", check_dy == 0) ",
      "metadata": {
        "trusted": true
      },
      "outputs": [
        {
          "ename": "<class 'TypeError'>",
          "evalue": "unsupported operand type(s) for ^: 'Symbol' and 'int'",
          "traceback": [
            "\u001b[0;31m---------------------------------------------------------------------------\u001b[0m",
            "\u001b[0;31mTypeError\u001b[0m                                 Traceback (most recent call last)",
            "Cell \u001b[0;32mIn[16], line 10\u001b[0m\n\u001b[1;32m      4\u001b[0m \u001b[38;5;66;03m#Define the symbolic variables \u001b[39;00m\n\u001b[1;32m      6\u001b[0m x, y \u001b[38;5;241m=\u001b[39m sp\u001b[38;5;241m.\u001b[39msymbols(\u001b[38;5;124m'\u001b[39m\u001b[38;5;124mx y\u001b[39m\u001b[38;5;124m'\u001b[39m, real\u001b[38;5;241m=\u001b[39m\u001b[38;5;28;01mTrue\u001b[39;00m) \n\u001b[0;32m---> 10\u001b[0m f \u001b[38;5;241m=\u001b[39m (\u001b[43mx\u001b[49m\u001b[38;5;241;43m^\u001b[39;49m\u001b[38;5;241;43m2\u001b[39;49m) \u001b[38;5;241m*\u001b[39m y \u001b[38;5;241m+\u001b[39m (y3) \u001b[38;5;241m*\u001b[39m sp\u001b[38;5;241m.\u001b[39msin(x) \n\u001b[1;32m     13\u001b[0m df_dx \u001b[38;5;241m=\u001b[39m sp\u001b[38;5;241m.\u001b[39mdiff(f, x) \n\u001b[1;32m     14\u001b[0m df_dy \u001b[38;5;241m=\u001b[39m sp\u001b[38;5;241m.\u001b[39mdiff(f, y) \n",
            "\u001b[0;31mTypeError\u001b[0m: unsupported operand type(s) for ^: 'Symbol' and 'int'"
          ],
          "output_type": "error"
        }
      ],
      "execution_count": 16
    },
    {
      "id": "852163fe-2c09-43f9-abc6-e4734200548c",
      "cell_type": "code",
      "source": "#q7\nstudents_data = {\n    2022: {\n        \"Branch 1\": [\n            {\n                \"Roll Number\": 1,\n                \"Name\": \"N\",\n                \"Marks\": {\n                    \"Science\": 100,\n                    \"English\": 70\n                    # Add other subjects as needed\n                }\n            },\n            # Add more students as needed\n        ],\n        \"Branch 2\": []\n    },\n    2023: {\n        \"Branch 1\": [],\n        \"Branch 2\": []\n    },\n    2024: {\n        \"Branch 1\": [],\n        \"Branch 2\": []\n    },\n    2025: {\n        \"Branch 1\": [],\n        \"Branch 2\": []\n    }\n}\n\n# Print the dictionary (pretty)\nimport pprint\npprint.pprint(students_data)\n",
      "metadata": {
        "trusted": true
      },
      "outputs": [
        {
          "name": "stdout",
          "output_type": "stream",
          "text": "{2022: {'Branch 1': [{'Marks': {'English': 70, 'Science': 100},\n                      'Name': 'N',\n                      'Roll Number': 1}],\n        'Branch 2': []},\n 2023: {'Branch 1': [], 'Branch 2': []},\n 2024: {'Branch 1': [], 'Branch 2': []},\n 2025: {'Branch 1': [], 'Branch 2': []}}\n"
        }
      ],
      "execution_count": 3
    },
    {
      "id": "87209ee2-b41d-47be-bf21-02c66107eae0",
      "cell_type": "code",
      "source": "#q8\nclass Student:\n    def __init__(self, roll_number, name, marks):\n        self.roll_number = roll_number\n        self.name = name\n        self.marks = marks \n    def __repr__(self):\n        return f\"Student({self.roll_number}, {self.name}, {self.marks})\"\n\nclass Branch:\n    def __init__(self, name):\n        self.name = name\n        self.students = [] \n\n    def add_student(self, student):\n        self.students.append(student)\n\n    def __repr__(self):\n        return f\"Branch({self.name}, {self.students})\"\n\nclass Year:\n    def __init__(self, year):\n        self.year = year\n        self.branches = []  \n\n    def add_branch(self, branch):\n        self.branches.append(branch)\n\n    def __repr__(self):\n        return f\"Year({self.year}, {self.branches})\"\n\n# Database is a list of Year objects\ndatabase = []\n\nyear2022 = Year(2022)\n\nbranch1 = Branch(\"Branch 1\")\nbranch2 = Branch(\"Branch 2\")\n\nstudent1 = Student(1, \"N\", {\"Maths\": 79, \"English\": 90})\nstudent2 = Student(2, \"A\", {\"Maths\": 91, \"English\": 80})\n\nbranch1.add_student(student1)\nbranch1.add_student(student2)\n\n\nyear2022.add_branch(branch1)\nyear2022.add_branch(branch2)\n\ndatabase.append(year2022)\n# database = []\n# year2023 = Year(2023)\n# branch1 = Branch(\"Branch 1\")\n# branch2 = Branch(\"Branch 2\")\n\n\n# database.append(year2023)\n\n# Print out the structure:\nfor year in database:\n    print(f\"Year: {year.year}\")\n    for branch in year.branches:\n        print(f\"  Branch: {branch.name}\")\n        for student in branch.students:\n            print(f\"    Roll Number: {student.roll_number}, Name: {student.name}, Marks: {student.marks}\")\n",
      "metadata": {
        "trusted": true
      },
      "outputs": [
        {
          "name": "stdout",
          "output_type": "stream",
          "text": "Year: 2022\n  Branch: Branch 1\n    Roll Number: 1, Name: N, Marks: {'Maths': 79, 'English': 90}\n    Roll Number: 2, Name: A, Marks: {'Maths': 91, 'English': 80}\n  Branch: Branch 2\n"
        }
      ],
      "execution_count": 8
    },
    {
      "id": "0bfc9966-9433-4da3-acf4-7d7711bd19ad",
      "cell_type": "code",
      "source": "#Q9\nimport numpy as np \n\nimport matplotlib.pyplot as plt \n\n \n\n# Create the domain \n\nx = np.arange(0.5, 100.5, 0.5) \n\n \n\n# Compute each function \n\ny1 = x \n\ny2 = x**2 \n\ny3 = x**3 / 100 \n\ny4 = np.sin(x) \n\ny5 = np.sin(x) / x \n\ny6 = np.log(x) \n\ny7 = np.exp(x) \n\n \n\nplt.figure(figsize=(12, 8)) \n\n \n\n# Plot each function \n\nplt.plot(x, y1, label='y = x') \n\nplt.plot(x, y2, label='y = x^2') \n\nplt.plot(x, y3, label='y = x^3 / 100') \n\nplt.plot(x, y4, label='y = sin(x)') \n\nplt.plot(x, y5, label='y = sin(x) / x') \n\nplt.plot(x, y6, label='y = log(x)') \n\nplt.plot(x, y7, label='y = e^x') \n\n \n\n# Optionally set y-limits to improve visibility \n\nplt.ylim(-10, 50) \n\n \n\nplt.xlabel('x') \n\nplt.ylabel('y') \n\nplt.title('Plot of Various Functions') \n\nplt.legend() \n\nplt.grid(True) \n\nplt.show() ",
      "metadata": {
        "trusted": true
      },
      "outputs": [],
      "execution_count": null
    },
    {
      "id": "10d12566-29da-432a-b036-9bc5283ed870",
      "cell_type": "code",
      "source": "",
      "metadata": {
        "trusted": true
      },
      "outputs": [],
      "execution_count": null
    },
    {
      "id": "094d585b-80f5-4464-b467-3b6155bc3ff2",
      "cell_type": "code",
      "source": "#Q10\n \n\n \n\nimport numpy as np \n\nimport pandas as pd \n\n \n\n# Step 1: Generate a 20x5 matrix with uniform random numbers between 1 and 2 \n\nmatrix = np.random.uniform(low=1, high=2, size=(20, 5)) \n\n \n\n# Step 2: Create a DataFrame from this matrix with column names \"a\", \"b\", \"c\", \"d\", \"e\" \n\ndf = pd.DataFrame(matrix, columns=['a', 'b', 'c', 'd', 'e']) \n\n \n\n# Step 3: Find the column with the highest standard deviation \n\nstd_devs = df.std() \n\ncol_highest_std = std_devs.idxmax() \n\n \n\n# Step 4: Find the row with the lowest mean \n\nrow_means = df.mean(axis=1) \n\nrow_lowest_mean_index = row_means.idxmin() \n\n \n\n# Print results \n\n#print(\"DataFrame:\") \n\nprint(df) \n\nprint(\"\\nColumn standard deviations:\") \n\nprint(std_devs) \n\nprint(f\"\\nColumn with highest standard deviation: '{col_highest_std}' with std = {std_devs[col_highest_std]:.4f}\") \n\nprint(f\"Index of row with the lowest mean: {row_lowest_mean_index}\") \n\nprint(\"Row with the lowest mean:\") \n\nprint(df.loc[row_lowest_mean_index]) \n\n\n#####Q11\n \n\n\ndf['f'] = df[['a', 'b', 'c', 'd', 'e']].sum(axis=1) \n\n \n\n# Add column 'g' based on condition on column 'f' \n\ndf['g'] = np.where(df['f'] < 8, 'LT8', 'GT8') \n\n \n\n# Number of rows where 'g' == 'LT8' \n\nnum_lt8 = (df['g'] == 'LT8').sum() \n\n \n\n# Standard deviation of 'f' for rows where 'g' is 'LT8' and 'GT8', respectively \n\nstd_f_lt8 = df.loc[df['g'] == 'LT8', 'f'].std() \n\nstd_f_gt8 = df.loc[df['g'] == 'GT8', 'f'].std() \n\nprint(df) \n\nprint(f\"Number of rows where 'g' is 'LT8': {num_lt8}\") \n\nprint(f\"Standard deviation of 'f' for 'LT8' rows: {std_f_lt8:.4f}\") \n\nprint(f\"Standard deviation of 'f' for 'GT8' rows: {std_f_gt8:.4f}\") \n\n \n\n",
      "metadata": {
        "trusted": true
      },
      "outputs": [
        {
          "name": "stdout",
          "output_type": "stream",
          "text": "           a         b         c         d         e\n0   1.083392  1.294763  1.444225  1.754926  1.507462\n1   1.475663  1.233055  1.995555  1.285212  1.287582\n2   1.054641  1.472569  1.197501  1.982862  1.883833\n3   1.334363  1.819492  1.328053  1.817960  1.796089\n4   1.193046  1.285767  1.224632  1.995040  1.330704\n5   1.024641  1.625242  1.698420  1.503912  1.032046\n6   1.613291  1.340530  1.407588  1.076415  1.513142\n7   1.541335  1.565292  1.045775  1.473142  1.438498\n8   1.248700  1.229561  1.897590  1.918071  1.391571\n9   1.395534  1.819073  1.495321  1.282560  1.966979\n10  1.819887  1.518874  1.447900  1.688610  1.133014\n11  1.077110  1.512503  1.228769  1.350182  1.919774\n12  1.710202  1.799294  1.787595  1.189648  1.430432\n13  1.620397  1.421848  1.776110  1.270577  1.631933\n14  1.079153  1.663226  1.476174  1.780064  1.991934\n15  1.519949  1.875980  1.856734  1.576158  1.274540\n16  1.505055  1.755780  1.005189  1.533234  1.025634\n17  1.918312  1.293924  1.925761  1.333134  1.731581\n18  1.436135  1.664608  1.217693  1.041823  1.001128\n19  1.958424  1.369226  1.563048  1.864363  1.608132\n\nColumn standard deviations:\na    0.291874\nb    0.215578\nc    0.301813\nd    0.301727\ne    0.318404\ndtype: float64\n\nColumn with highest standard deviation: 'e' with std = 0.3184\nIndex of row with the lowest mean: 18\nRow with the lowest mean:\na    1.436135\nb    1.664608\nc    1.217693\nd    1.041823\ne    1.001128\nName: 18, dtype: float64\n           a         b         c         d         e         f    g\n0   1.083392  1.294763  1.444225  1.754926  1.507462  7.084768  LT8\n1   1.475663  1.233055  1.995555  1.285212  1.287582  7.277066  LT8\n2   1.054641  1.472569  1.197501  1.982862  1.883833  7.591406  LT8\n3   1.334363  1.819492  1.328053  1.817960  1.796089  8.095957  GT8\n4   1.193046  1.285767  1.224632  1.995040  1.330704  7.029188  LT8\n5   1.024641  1.625242  1.698420  1.503912  1.032046  6.884262  LT8\n6   1.613291  1.340530  1.407588  1.076415  1.513142  6.950966  LT8\n7   1.541335  1.565292  1.045775  1.473142  1.438498  7.064042  LT8\n8   1.248700  1.229561  1.897590  1.918071  1.391571  7.685492  LT8\n9   1.395534  1.819073  1.495321  1.282560  1.966979  7.959468  LT8\n10  1.819887  1.518874  1.447900  1.688610  1.133014  7.608285  LT8\n11  1.077110  1.512503  1.228769  1.350182  1.919774  7.088338  LT8\n12  1.710202  1.799294  1.787595  1.189648  1.430432  7.917172  LT8\n13  1.620397  1.421848  1.776110  1.270577  1.631933  7.720865  LT8\n14  1.079153  1.663226  1.476174  1.780064  1.991934  7.990551  LT8\n15  1.519949  1.875980  1.856734  1.576158  1.274540  8.103361  GT8\n16  1.505055  1.755780  1.005189  1.533234  1.025634  6.824892  LT8\n17  1.918312  1.293924  1.925761  1.333134  1.731581  8.202712  GT8\n18  1.436135  1.664608  1.217693  1.041823  1.001128  6.361388  LT8\n19  1.958424  1.369226  1.563048  1.864363  1.608132  8.363194  GT8\nNumber of rows where 'g' is 'LT8': 16\nStandard deviation of 'f' for 'LT8' rows: 0.4773\nStandard deviation of 'f' for 'GT8' rows: 0.1245\n"
        }
      ],
      "execution_count": 3
    },
    {
      "id": "b9670d85-ef29-4dfd-b4b5-e76d279c1f1a",
      "cell_type": "markdown",
      "source": "## Next steps 🏃\n\nThis is just a short introduction to JupyterLab and Jupyter Notebooks. See below for some more ways to interact with tools in the Jupyter ecosystem, and its community.\n\n### Other notebooks in this demo\n\nHere are some other notebooks in this demo. Each of the items below corresponds to a file or folder in the **file browser to the left**.\n\n- [**`Lorenz.ipynb`**](Lorenz.ipynb) uses Python to demonstrate interactive visualizations and computations around the [Lorenz system](https://en.wikipedia.org/wiki/Lorenz_system). It shows off basic Python functionality, including more visualizations, data structures, and scientific computing libraries.\n- [**`r.ipynb`**](r.ipynb) demonstrates the R programming language for statistical computing and data analysis.\n- [**`cpp.ipynb`**](cpp.ipynb) demonstrates the C++ programming language for scientific computing and data analysis.\n- [**`sqlite.ipynb`**](sqlite.ipynb) demonstrates how an in-browser sqlite kernel to run your own SQL commands from the notebook. It uses the [jupyterlite/xeus-sqlite-kernel](https://github.com/jupyterlite/xeus-sqlite-kernel).\n\n### Other sources of information in Jupyter\n\n- **More on using JupyterLab**: See [the JupyterLab documentation](https://jupyterlab.readthedocs.io/en/stable/) for more thorough information about how to install and use JupyterLab.\n- **More interactive demos**: See [try.jupyter.org](https://try.jupyter.org) for more interactive demos with the Jupyter ecosystem.\n- **Learn more about Jupyter**: See [the Jupyter community documentation](https://docs.jupyter.org) to learn more about the project, its community and tools, and how to get involved.\n- **Join our discussions**: The [Jupyter Community Forum](https://discourse.jupyter.org) is a place where many in the Jupyter community ask questions, help one another, and discuss issues around interactive computing and our ecosystem.",
      "metadata": {}
    },
    {
      "id": "eade3220-8d34-44e6-906c-86b5ee9d702e",
      "cell_type": "code",
      "source": "#Q12\nimport numpy as np \n\n# A 1D array  \n\na = np.array([1, 2, 3]) \n\n  \n\n# A column vector (shape: (3,1)) \n\nb = np.array([[10], \n\n              [20], \n\n              [30]]) \n\n \n\nresult = a + b \n\n  \n\nprint(\"a shape:\", a.shape) \n\nprint(\"b shape:\", b.shape) \n\nprint(\"\\nResult:\\n\", result) \n\n ",
      "metadata": {
        "trusted": true
      },
      "outputs": [
        {
          "name": "stdout",
          "output_type": "stream",
          "text": "a shape: (3,)\nb shape: (3, 1)\n\nResult:\n [[11 12 13]\n [21 22 23]\n [31 32 33]]\n"
        }
      ],
      "execution_count": 6
    },
    {
      "id": "17800f0b-7f11-4c47-a641-4b5c0c454459",
      "cell_type": "code",
      "source": "",
      "metadata": {
        "trusted": true
      },
      "outputs": [],
      "execution_count": null
    },
    {
      "id": "cb974f89-321d-4d68-ae8d-1c33bc306066",
      "cell_type": "code",
      "source": "#Q13\nimport numpy as np \n\n \n\ndef my_argmin(arr): \n\n    \"\"\" \n\n    Returns the index of the minimum element in a NumPy array. \n\n    Works for 1D arrays. \n\n    \"\"\" \n\n    min_index = 0 \n\n    min_value = arr[0] \n\n    for i in range(1, len(arr)): \n\n        if arr[i] < min_value: \n\n            min_value = arr[i] \n\n            min_index = i \n\n    return min_index \n\n \n\n# Test array \n\na = np.array([4, 2, 7, 1, 5]) \n\n \n\n# Using our custom function \n\ncustom_result = my_argmin(a) \n\n \n\n# Using NumPy's built-in argmin for verification \n\nnumpy_result = np.argmin(a) \n\n \n\nprint(\"Custom argmin index:\", custom_result) \n\nprint(\"NumPy argmin index:\", numpy_result) \n\nprint(\"Match? ->\", custom_result == numpy_result) \n\n \n\n \n",
      "metadata": {
        "trusted": true
      },
      "outputs": [
        {
          "name": "stdout",
          "output_type": "stream",
          "text": "Custom argmin index: 3\nNumPy argmin index: 3\nMatch? -> True\n"
        }
      ],
      "execution_count": 7
    },
    {
      "id": "18db1fbf-2420-43b7-966b-385e272df87a",
      "cell_type": "code",
      "source": "",
      "metadata": {
        "trusted": true
      },
      "outputs": [],
      "execution_count": null
    },
    {
      "id": "afcd9a4b-cd35-4d9e-98c1-4ad1decf7987",
      "cell_type": "code",
      "source": "",
      "metadata": {
        "trusted": true
      },
      "outputs": [],
      "execution_count": null
    }
  ]
}